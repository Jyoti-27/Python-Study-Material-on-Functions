{
 "cells": [
  {
   "cell_type": "markdown",
   "metadata": {},
   "source": [
    "# FUNCTIONS"
   ]
  },
  {
   "cell_type": "markdown",
   "metadata": {},
   "source": [
    "> **A function is a block of organized, reusable code that is used to perform a single, related action. Functions provide better modularity for your application and a high degree of code reusing.**\n",
    "\n",
    "> **Functions help break our program into smaller and modular chunks. As our program grows larger and larger, functions make it more organized and manageable.**\n"
   ]
  },
  {
   "cell_type": "markdown",
   "metadata": {},
   "source": [
    "### Syntax of Function"
   ]
  },
  {
   "cell_type": "code",
   "execution_count": 1,
   "metadata": {},
   "outputs": [],
   "source": [
    "def function_name(Parameters):  # -----------------> Function Header\n",
    "############# Function Body #############\n",
    "    statement1 \n",
    "    statement2\n",
    "    statement3\n",
    "    #---------\n",
    "    #---------\n",
    "    statementN"
   ]
  },
  {
   "cell_type": "markdown",
   "metadata": {},
   "source": [
    "#### ***def*** - Keyword which signifies the beginning of the function's definition. Name of Function is followed by function's definition\n",
    "#### ***Function Header*** -  may contain zero or more number of parmeters. These are called Formal Parameters.\n",
    "#### ***Function's Body*** -  is block of statements which defines the actions."
   ]
  },
  {
   "cell_type": "code",
   "execution_count": 1,
   "metadata": {},
   "outputs": [
    {
     "name": "stdout",
     "output_type": "stream",
     "text": [
      "Welcome to Codeworld\n",
      "This is July batch\n"
     ]
    }
   ],
   "source": [
    "#This prints a passed string into this function\n",
    "\n",
    "def printstr(str):\n",
    "    print(str)\n",
    "\n",
    "#Calling a function\n",
    "printstr(\"Welcome to Codeworld\")\n",
    "printstr(\"This is July batch\")"
   ]
  },
  {
   "cell_type": "code",
   "execution_count": 3,
   "metadata": {},
   "outputs": [
    {
     "name": "stdout",
     "output_type": "stream",
     "text": [
      "Danish Roy\n",
      "Ram Roy\n"
     ]
    }
   ],
   "source": [
    "def name(name):\n",
    "    print(name + \" \" + \"Roy\")\n",
    "\n",
    "#Calling a function\n",
    "name('Danish')\n",
    "# Calling a function using a variable\n",
    "n = \"Ram\" \n",
    "name(n)  "
   ]
  },
  {
   "cell_type": "code",
   "execution_count": 5,
   "metadata": {},
   "outputs": [
    {
     "name": "stdout",
     "output_type": "stream",
     "text": [
      "His name is Danish Kapoor\n"
     ]
    }
   ],
   "source": [
    "#Function with two arguments\n",
    "def name(name,surname):\n",
    "    print(\"His name is \"+ name + \" \" + surname)\n",
    "\n",
    "name('Danish','Kapoor')"
   ]
  },
  {
   "cell_type": "code",
   "execution_count": 6,
   "metadata": {},
   "outputs": [
    {
     "ename": "TypeError",
     "evalue": "name() missing 1 required positional argument: 'surname'",
     "output_type": "error",
     "traceback": [
      "\u001b[1;31m---------------------------------------------------------------------------\u001b[0m",
      "\u001b[1;31mTypeError\u001b[0m                                 Traceback (most recent call last)",
      "\u001b[1;32m<ipython-input-6-8ddef72e7edd>\u001b[0m in \u001b[0;36m<module>\u001b[1;34m\u001b[0m\n\u001b[1;32m----> 1\u001b[1;33m \u001b[0mname\u001b[0m\u001b[1;33m(\u001b[0m\u001b[1;34m\"Aravind\"\u001b[0m\u001b[1;33m)\u001b[0m\u001b[1;33m\u001b[0m\u001b[1;33m\u001b[0m\u001b[0m\n\u001b[0m",
      "\u001b[1;31mTypeError\u001b[0m: name() missing 1 required positional argument: 'surname'"
     ]
    }
   ],
   "source": [
    "name(\"Aravind\")"
   ]
  },
  {
   "cell_type": "code",
   "execution_count": 10,
   "metadata": {},
   "outputs": [
    {
     "name": "stdout",
     "output_type": "stream",
     "text": [
      "6 + 8 is 14\n",
      "10 + 3 is 13\n"
     ]
    }
   ],
   "source": [
    "def add(x, y):\n",
    "    result = x + y\n",
    "    print(x, \"+\", y ,\"is\", result)\n",
    "    \n",
    "x = 6\n",
    "y = 8\n",
    "add(x, y)\n",
    "\n",
    "\n",
    "#or you can directly give value of arguments\n",
    "add(10,3)"
   ]
  },
  {
   "cell_type": "code",
   "execution_count": 3,
   "metadata": {},
   "outputs": [
    {
     "name": "stdout",
     "output_type": "stream",
     "text": [
      "8 - 5 is 3\n",
      "5 - 7 is -2\n"
     ]
    }
   ],
   "source": [
    "# Default Arguments\n",
    "def sub(a = 8 , b = 5):\n",
    "    diff = a - b\n",
    "    print(a, \"-\", b ,\"is\", diff)\n",
    "    \n",
    "sub() \n",
    "\n",
    "#when given values of arguments\n",
    "sub(5,7)"
   ]
  },
  {
   "cell_type": "code",
   "execution_count": 6,
   "metadata": {},
   "outputs": [
    {
     "name": "stdout",
     "output_type": "stream",
     "text": [
      "10 subtracted from 100  is 90\n"
     ]
    }
   ],
   "source": [
    "def sub(a , b = 5): # Default Arguments\n",
    "    diff = a - b\n",
    "    print(\"%d subtracted from %d  is %d\" % (b , a , diff))\n",
    "    \n",
    "sub(100,10)"
   ]
  },
  {
   "cell_type": "code",
   "execution_count": 7,
   "metadata": {},
   "outputs": [
    {
     "name": "stdout",
     "output_type": "stream",
     "text": [
      "odd\n",
      "even\n"
     ]
    }
   ],
   "source": [
    "#Python function to check whether x is even or odd \n",
    "def checknum( x ): \n",
    "    if (x % 2 == 0): \n",
    "        print(\"even\")\n",
    "    else: \n",
    "        print(\"odd\")\n",
    "        \n",
    "checknum(7) \n",
    "checknum(22) "
   ]
  },
  {
   "cell_type": "code",
   "execution_count": 20,
   "metadata": {},
   "outputs": [
    {
     "name": "stdout",
     "output_type": "stream",
     "text": [
      "Number =  4\n",
      "Square =  16 Cube =  64\n"
     ]
    }
   ],
   "source": [
    "# Return Multiple Values to variable(s)\n",
    "def square_cube(num):\n",
    "    print(\"Number = \", num)\n",
    "    return num*num, num*num*num\n",
    "se\\\n",
    "\n",
    "square,cube = square_cube(4)\n",
    "print(\"Square = \", square, \"Cube = \", cube)"
   ]
  },
  {
   "cell_type": "code",
   "execution_count": 22,
   "metadata": {},
   "outputs": [
    {
     "name": "stdout",
     "output_type": "stream",
     "text": [
      "Before: [10, 11, 12, 13, 14, 15]\n",
      "After: [10, 11, 12, 13, 14, 15]\n"
     ]
    }
   ],
   "source": [
    "def change(x): \n",
    "    x[0] = 20\n",
    "\n",
    "Lst = [10, 11, 12, 13, 14, 15]  \n",
    "print('Before:',Lst) \n",
    "print('After:',Lst)"
   ]
  },
  {
   "cell_type": "code",
   "execution_count": 27,
   "metadata": {},
   "outputs": [
    {
     "name": "stdout",
     "output_type": "stream",
     "text": [
      "5\n",
      "1.5\n"
     ]
    }
   ],
   "source": [
    "#This function returns the absolute value of the entered number\n",
    "def absolute_value(num):\n",
    "    if num >= 0:\n",
    "        return num\n",
    "    else:\n",
    "        return -num\n",
    "\n",
    "\n",
    "print(absolute_value(5))\n",
    "\n",
    "print(absolute_value(-1.5))"
   ]
  },
  {
   "cell_type": "code",
   "execution_count": 31,
   "metadata": {},
   "outputs": [
    {
     "name": "stdout",
     "output_type": "stream",
     "text": [
      "apple\n",
      "banana\n",
      "cherry\n"
     ]
    }
   ],
   "source": [
    "#Passing a List as an Argument\n",
    "def fruits_name(food):\n",
    "    for x in food:\n",
    "        print(x)\n",
    "\n",
    "fruits = [\"apple\", \"banana\", \"cherry\"]\n",
    "\n",
    "fruits_name(fruits)"
   ]
  },
  {
   "cell_type": "markdown",
   "metadata": {},
   "source": [
    "# List manipulation in functions\n",
    "### You can also append or delete items of a list inside a function just as if you were manipulating the list outside a function."
   ]
  },
  {
   "cell_type": "code",
   "execution_count": 33,
   "metadata": {},
   "outputs": [
    {
     "data": {
      "text/plain": [
       "[3, 5, 7, 9]"
      ]
     },
     "execution_count": 33,
     "metadata": {},
     "output_type": "execute_result"
    }
   ],
   "source": [
    "n = [3, 5, 7]\n",
    "\n",
    "def list_extender(lst):\n",
    "    lst.append(9)\n",
    "    return lst\n",
    "\n",
    "\n",
    "list_extender(n)"
   ]
  },
  {
   "cell_type": "code",
   "execution_count": 41,
   "metadata": {},
   "outputs": [
    {
     "name": "stdout",
     "output_type": "stream",
     "text": [
      "[1, 2, 3, 4, 5, 6]\n"
     ]
    }
   ],
   "source": [
    "m = [1, 2, 3]\n",
    "n = [4, 5, 6]\n",
    "\n",
    "def join_lists(x,y):\n",
    "    return x + y\n",
    "\n",
    "\n",
    "print(join_lists(m, n))"
   ]
  },
  {
   "cell_type": "code",
   "execution_count": null,
   "metadata": {},
   "outputs": [],
   "source": []
  }
 ],
 "metadata": {
  "kernelspec": {
   "display_name": "Python 3",
   "language": "python",
   "name": "python3"
  },
  "language_info": {
   "codemirror_mode": {
    "name": "ipython",
    "version": 3
   },
   "file_extension": ".py",
   "mimetype": "text/x-python",
   "name": "python",
   "nbconvert_exporter": "python",
   "pygments_lexer": "ipython3",
   "version": "3.7.6"
  }
 },
 "nbformat": 4,
 "nbformat_minor": 4
}
