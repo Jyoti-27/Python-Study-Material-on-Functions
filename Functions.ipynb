{
 "cells": [
  {
   "cell_type": "markdown",
   "metadata": {},
   "source": [
    "# FUNCTIONS AND OUTCOMES"
   ]
  },
  {
   "cell_type": "markdown",
   "metadata": {},
   "source": [
    "> **Best way of programming is done by dividing a big program into smaller modules and repeatedly call these modules.**\n",
    "\n",
    "> **Can be achieved by using functions**\n",
    "\n",
    "> **Code's Readability and flow of execution of small modules can be managed easily**"
   ]
  },
  {
   "cell_type": "code",
   "execution_count": 31,
   "metadata": {},
   "outputs": [],
   "source": [
    "# Syntax and Basics of a Function"
   ]
  },
  {
   "cell_type": "code",
   "execution_count": 32,
   "metadata": {},
   "outputs": [],
   "source": [
    "def function_name(Parameters):  # -----------------> Function Header\n",
    "############# Function Body #############\n",
    "    statement1 \n",
    "    statement2\n",
    "    statement3\n",
    "    #---------\n",
    "    #---------\n",
    "    statementN"
   ]
  },
  {
   "cell_type": "markdown",
   "metadata": {},
   "source": [
    "#### ***def*** - Keyword which signifies the beginning of the function's definition. Name of Function is followed by function's definition\n",
    "#### ***Function Header*** -  may contain zero or more number of parmeters. These are called Formal Parameters.\n",
    "#### ***Function's Body*** -  is block of statements which defines the actions."
   ]
  },
  {
   "cell_type": "markdown",
   "metadata": {},
   "source": [
    "# Function Junction"
   ]
  },
  {
   "cell_type": "code",
   "execution_count": 12,
   "metadata": {},
   "outputs": [],
   "source": [
    "def display():\n",
    "    \"\"\"Prints 'Hello World!' to the console.\"\"\"\n",
    "    print(\"Hello World!\")"
   ]
  },
  {
   "cell_type": "markdown",
   "metadata": {},
   "source": [
    "# Call and Response"
   ]
  },
  {
   "cell_type": "markdown",
   "metadata": {},
   "source": [
    "**After defining a function, it must be called to be implemented.**"
   ]
  },
  {
   "cell_type": "code",
   "execution_count": 34,
   "metadata": {},
   "outputs": [
    {
     "name": "stdout",
     "output_type": "stream",
     "text": [
      "Hello World!\n"
     ]
    }
   ],
   "source": [
    "display()"
   ]
  },
  {
   "cell_type": "markdown",
   "metadata": {},
   "source": [
    "#### Write program to add the sum of numbers starting from 1 to 25, 50 to 75 and 90 to 100 using three different for loops"
   ]
  },
  {
   "cell_type": "code",
   "execution_count": 1,
   "metadata": {},
   "outputs": [
    {
     "name": "stdout",
     "output_type": "stream",
     "text": [
      "Sum of integers from 1 to 25 is =  325\n",
      "Sum of integers from 50 to 75 is =  1625\n",
      "Sum of integers from 90 to 100 is =  1045\n"
     ]
    }
   ],
   "source": [
    "sum = 0\n",
    "for i in range(1,26):\n",
    "    sum = sum+i\n",
    "print(\"Sum of integers from 1 to 25 is = \", sum)\n",
    "\n",
    "sum = 0\n",
    "for i in range(50,76):\n",
    "    sum = sum + i\n",
    "print(\"Sum of integers from 50 to 75 is = \", sum)\n",
    "\n",
    "sum = 0\n",
    "for i in range(90, 101):\n",
    "    sum = sum + i\n",
    "print(\"Sum of integers from 90 to 100 is = \", sum)"
   ]
  },
  {
   "cell_type": "markdown",
   "metadata": {},
   "source": [
    "#### Simplifying the above program using Functions"
   ]
  },
  {
   "cell_type": "code",
   "execution_count": 4,
   "metadata": {},
   "outputs": [],
   "source": [
    "def sum(x,y):\n",
    "    sum = 0\n",
    "    for i in range(x,y+1):\n",
    "        sum = sum + i\n",
    "    print('Sum of integers from {} to {} is {}'.format(x,y,sum))"
   ]
  },
  {
   "cell_type": "code",
   "execution_count": 3,
   "metadata": {},
   "outputs": [
    {
     "name": "stdout",
     "output_type": "stream",
     "text": [
      "Sum of integers from 1 to 25 is 325\n",
      "Sum of integers from 50 to 75 is 1625\n",
      "Sum of integers from 90 to 100 is 1045\n",
      "Sum of integers from 10 to 45 is 990\n"
     ]
    }
   ],
   "source": [
    "sum(1,25)\n",
    "sum(50,75)\n",
    "sum(90,100)\n",
    "sum(10,45)"
   ]
  },
  {
   "cell_type": "code",
   "execution_count": 11,
   "metadata": {},
   "outputs": [],
   "source": [
    "def square(n):\n",
    "    squared = n ** 2 "
   ]
  },
  {
   "cell_type": "markdown",
   "metadata": {},
   "source": [
    "- %d is used as a place holder for numeric or decimal values.\n",
    "- %s is used for strings"
   ]
  },
  {
   "cell_type": "code",
   "execution_count": 9,
   "metadata": {},
   "outputs": [
    {
     "name": "stdout",
     "output_type": "stream",
     "text": [
      "6 squared is 36.\n"
     ]
    }
   ],
   "source": [
    "square(6)"
   ]
  },
  {
   "cell_type": "markdown",
   "metadata": {},
   "source": [
    "# Parameters and Arguments"
   ]
  },
  {
   "cell_type": "code",
   "execution_count": 1,
   "metadata": {},
   "outputs": [
    {
     "name": "stdout",
     "output_type": "stream",
     "text": [
      "37 to the power of 4 is 1874161.\n"
     ]
    }
   ],
   "source": [
    "def power(base, exponent):  # Add your parameters here!\n",
    "    result = base ** exponent\n",
    "    print (\"%d to the power of %d is %d.\" % (base, exponent, result))\n",
    "\n",
    "power(37, 4)  # Add your arguments here!"
   ]
  },
  {
   "cell_type": "markdown",
   "metadata": {},
   "source": [
    "- %d is used as a placeholder for numeric or decimal values\n",
    "- The %d is for numbers, and %s is for strings."
   ]
  },
  {
   "cell_type": "markdown",
   "metadata": {},
   "source": [
    "### argument\n",
    "- A value passed to a function (or method) when calling the function. There are two types of arguments:\n",
    "\n",
    "keyword argument: \n",
    "    an argument preceded by an identifier (e.g. name=) in a function call or passed as a value in a dictionary preceded by **.\n",
    "- For example, 3 and 5 are both keyword arguments in the following calls to complex():"
   ]
  },
  {
   "cell_type": "code",
   "execution_count": 3,
   "metadata": {},
   "outputs": [
    {
     "data": {
      "text/plain": [
       "(3+5j)"
      ]
     },
     "execution_count": 3,
     "metadata": {},
     "output_type": "execute_result"
    }
   ],
   "source": [
    "complex(real=3,imag=5)"
   ]
  },
  {
   "cell_type": "code",
   "execution_count": 5,
   "metadata": {},
   "outputs": [
    {
     "data": {
      "text/plain": [
       "(5+3j)"
      ]
     },
     "execution_count": 5,
     "metadata": {},
     "output_type": "execute_result"
    }
   ],
   "source": [
    "complex(5,3)"
   ]
  },
  {
   "cell_type": "code",
   "execution_count": 7,
   "metadata": {},
   "outputs": [
    {
     "data": {
      "text/plain": [
       "(3+5j)"
      ]
     },
     "execution_count": 7,
     "metadata": {},
     "output_type": "execute_result"
    }
   ],
   "source": [
    "complex(**{'real': 3,'imag': 5})"
   ]
  },
  {
   "cell_type": "markdown",
   "metadata": {},
   "source": [
    "### Positional argument: \n",
    "\n",
    "an argument that is not a keyword argument. Positional arguments can appear at the beginning of an argument list and/or be passed as elements of an iterable preceded by *. For example, 3 and 5 are both positional arguments in the following calls:\n"
   ]
  },
  {
   "cell_type": "code",
   "execution_count": 9,
   "metadata": {},
   "outputs": [
    {
     "data": {
      "text/plain": [
       "(3+5j)"
      ]
     },
     "execution_count": 9,
     "metadata": {},
     "output_type": "execute_result"
    }
   ],
   "source": [
    "complex(3, 5)"
   ]
  },
  {
   "cell_type": "code",
   "execution_count": 10,
   "metadata": {},
   "outputs": [
    {
     "data": {
      "text/plain": [
       "(3+5j)"
      ]
     },
     "execution_count": 10,
     "metadata": {},
     "output_type": "execute_result"
    }
   ],
   "source": [
    "complex(*(3, 5))"
   ]
  },
  {
   "cell_type": "code",
   "execution_count": 11,
   "metadata": {},
   "outputs": [
    {
     "name": "stdout",
     "output_type": "stream",
     "text": [
      "Place = Hyderabad and Pincode = 500082\n",
      "Place = 500019 and Pincode = Nizampet\n",
      "Place = LBNGAR and Pincode = 500068\n"
     ]
    }
   ],
   "source": [
    "def Positional_Arguments(place, pincode):\n",
    "    print(\"Place = {} and Pincode = {}\".format(place, pincode))\n",
    "Positional_Arguments(\"Hyderabad\", 500082)\n",
    "Positional_Arguments(500019,\"Nizampet\")\n",
    "Positional_Arguments(pincode=\"500068\",place = \"LBNGAR\") # Keyword arguments"
   ]
  },
  {
   "cell_type": "markdown",
   "metadata": {},
   "source": [
    "# Keyword Arguments"
   ]
  },
  {
   "cell_type": "code",
   "execution_count": 11,
   "metadata": {},
   "outputs": [
    {
     "name": "stdout",
     "output_type": "stream",
     "text": [
      "Name = Rajinikanth, Age = 70\n"
     ]
    }
   ],
   "source": [
    "def show(name,age):\n",
    "    print(\"Name = {}, Age = {}\".format(name,age))\n",
    "    \n",
    "show(age = 70, name = 'Rajinikanth')"
   ]
  },
  {
   "cell_type": "markdown",
   "metadata": {},
   "source": [
    "# Parameters with Default Arguments"
   ]
  },
  {
   "cell_type": "code",
   "execution_count": 23,
   "metadata": {},
   "outputs": [],
   "source": [
    "def area_circle(r,pi=3.14):\n",
    "    Area = pi*r**2\n",
    "    print(\"Area of Circle is multiplying the square of radius {} with pi {} and the result {} \".format(r,pi,Area))"
   ]
  },
  {
   "cell_type": "code",
   "execution_count": 22,
   "metadata": {},
   "outputs": [
    {
     "name": "stdout",
     "output_type": "stream",
     "text": [
      "Area of Circle is multiplying the square of radius 5 with pi  3.14 and the result 78.5 \n"
     ]
    }
   ],
   "source": [
    "area_circle(5)"
   ]
  },
  {
   "cell_type": "markdown",
   "metadata": {},
   "source": [
    "# Overriding the Default Arguments is possible ?\n",
    "\n",
    "***Yes, it's possible***"
   ]
  },
  {
   "cell_type": "code",
   "execution_count": 5,
   "metadata": {},
   "outputs": [
    {
     "name": "stdout",
     "output_type": "stream",
     "text": [
      "Area of Circle is multiplying the square of radius = 5 with pi = 10 and the result = 250 \n"
     ]
    }
   ],
   "source": [
    "area_circle(5,10)"
   ]
  },
  {
   "cell_type": "markdown",
   "metadata": {},
   "source": [
    "# Local and Global Scope of a Variables\n",
    "\n",
    "- ***Variables and parameters that are initialized within a function including parameters, are said to be exist in that function's local scope. Variables that exist in local scope are local variables***\n",
    "- ***Variables that are assigned outside function are said to exist in global scope. Therefore, variables that exist in global scope are called global variables***"
   ]
  },
  {
   "cell_type": "code",
   "execution_count": 2,
   "metadata": {},
   "outputs": [
    {
     "name": "stdout",
     "output_type": "stream",
     "text": [
      "Global Variable value accessing outside function 20\n",
      "Local Variable value 10\n",
      "Global Variable value 20\n"
     ]
    }
   ],
   "source": [
    "p = 20\n",
    "def global_local_example():\n",
    "    q = 10\n",
    "    print(\"Local Variable value\",q)\n",
    "    print(\"Global Variable value\",p)\n",
    "print(\"Global Variable value accessing outside function\",p)\n",
    "#print(\"Local Variable value\",q)\n",
    "global_local_example()"
   ]
  },
  {
   "cell_type": "code",
   "execution_count": 7,
   "metadata": {},
   "outputs": [
    {
     "name": "stdout",
     "output_type": "stream",
     "text": [
      "Global Variable value accessing outside function 20\n",
      "Local Variable value 10\n",
      "Global Variable value 20\n"
     ]
    }
   ],
   "source": [
    "p = 20\n",
    "def globals_locals_examples():\n",
    "    q = 10\n",
    "    print(\"Local Variable value\",q)\n",
    "    print(\"Global Variable value\",p)\n",
    "print(\"Global Variable value accessing outside function\",p)\n",
    "#print(\"Local Variable value\",q)\n",
    "globals_locals_examples()"
   ]
  },
  {
   "cell_type": "markdown",
   "metadata": {},
   "source": [
    "# Local and Global Variables with same name"
   ]
  },
  {
   "cell_type": "code",
   "execution_count": 2,
   "metadata": {},
   "outputs": [
    {
     "name": "stdout",
     "output_type": "stream",
     "text": [
      "10\n",
      "20\n"
     ]
    }
   ],
   "source": [
    "a = 20\n",
    "def same():\n",
    "    a = 10\n",
    "    print(a)\n",
    "same()\n",
    "print(a)"
   ]
  },
  {
   "cell_type": "code",
   "execution_count": 3,
   "metadata": {},
   "outputs": [],
   "source": [
    "def aravind(x):\n",
    "    return x"
   ]
  },
  {
   "cell_type": "code",
   "execution_count": 4,
   "metadata": {},
   "outputs": [
    {
     "data": {
      "text/plain": [
       "20"
      ]
     },
     "execution_count": 4,
     "metadata": {},
     "output_type": "execute_result"
    }
   ],
   "source": [
    "aravind(20)"
   ]
  },
  {
   "cell_type": "markdown",
   "metadata": {},
   "source": [
    "# Global Statement"
   ]
  },
  {
   "cell_type": "markdown",
   "metadata": {},
   "source": [
    "- If a variable is assigned a value anywhere with in the function's body,it's assumed to be a local unless explicitly declared as global"
   ]
  },
  {
   "cell_type": "code",
   "execution_count": 6,
   "metadata": {},
   "outputs": [
    {
     "name": "stdout",
     "output_type": "stream",
     "text": [
      "Global : 20\n",
      "Value of a outside function =  30\n"
     ]
    }
   ],
   "source": [
    "a = 20\n",
    "def global_statement():\n",
    "    global a\n",
    "    print(\"Global :\",a)\n",
    "    a = 30\n",
    "    #print(\"Value of a inside function = \", a)\n",
    "global_statement()\n",
    "print(\"Value of a outside function = \", a)"
   ]
  },
  {
   "cell_type": "markdown",
   "metadata": {},
   "source": [
    "# Functions Calling Functions\n",
    "## Return Statement"
   ]
  },
  {
   "cell_type": "code",
   "execution_count": 7,
   "metadata": {},
   "outputs": [],
   "source": [
    "def first_function(n):\n",
    "    return n + 1\n",
    "    \n",
    "def second_function(n):\n",
    "    return n + 2 # return statement is used to return a value from the function / break out of a function."
   ]
  },
  {
   "cell_type": "code",
   "execution_count": 9,
   "metadata": {},
   "outputs": [
    {
     "data": {
      "text/plain": [
       "12"
      ]
     },
     "execution_count": 9,
     "metadata": {},
     "output_type": "execute_result"
    }
   ],
   "source": [
    "second_function(10)"
   ]
  },
  {
   "cell_type": "code",
   "execution_count": 10,
   "metadata": {},
   "outputs": [],
   "source": [
    "def first_function(n):\n",
    "    return n + 1\n",
    "    \n",
    "def second_function(n):\n",
    "    return first_function(n) + 2"
   ]
  },
  {
   "cell_type": "code",
   "execution_count": 11,
   "metadata": {},
   "outputs": [
    {
     "data": {
      "text/plain": [
       "13"
      ]
     },
     "execution_count": 11,
     "metadata": {},
     "output_type": "execute_result"
    }
   ],
   "source": [
    "second_function(10)"
   ]
  },
  {
   "cell_type": "code",
   "execution_count": 12,
   "metadata": {},
   "outputs": [
    {
     "name": "stdout",
     "output_type": "stream",
     "text": [
      "Global : 20\n"
     ]
    },
    {
     "data": {
      "text/plain": [
       "2"
      ]
     },
     "execution_count": 12,
     "metadata": {},
     "output_type": "execute_result"
    }
   ],
   "source": [
    "a = 20\n",
    "def global_statement(x):\n",
    "    global a\n",
    "    print(\"Global :\",a)\n",
    "    return x\n",
    "    \n",
    "global_statement(2)\n"
   ]
  },
  {
   "cell_type": "markdown",
   "metadata": {},
   "source": [
    "#### without Global"
   ]
  },
  {
   "cell_type": "code",
   "execution_count": 26,
   "metadata": {},
   "outputs": [
    {
     "name": "stdout",
     "output_type": "stream",
     "text": [
      "without global : 2\n"
     ]
    },
    {
     "data": {
      "text/plain": [
       "2"
      ]
     },
     "execution_count": 26,
     "metadata": {},
     "output_type": "execute_result"
    }
   ],
   "source": [
    "a = 20\n",
    "def without_global_statement(a):\n",
    "    print(\"without global :\",a)\n",
    "    return a    \n",
    "without_global_statement(2)\n"
   ]
  },
  {
   "cell_type": "code",
   "execution_count": 101,
   "metadata": {},
   "outputs": [],
   "source": [
    "def area_rect(l,b):\n",
    "    if l<0 or b<0:\n",
    "        return # if function does not return anything, the default value function return is none\n",
    "    else:\n",
    "        print(\"Length = {}, Breadth = {}\".format(l,b))\n",
    "        return l*b\n",
    "    \n",
    "    \n",
    "area_rect(-1,6)"
   ]
  },
  {
   "cell_type": "markdown",
   "metadata": {},
   "source": [
    "# Return Multiple Values to variable(s)"
   ]
  },
  {
   "cell_type": "code",
   "execution_count": 13,
   "metadata": {},
   "outputs": [
    {
     "name": "stdout",
     "output_type": "stream",
     "text": [
      "Number =  4\n",
      "Square =  16 Cube =  64\n"
     ]
    }
   ],
   "source": [
    "def square_cube(num):\n",
    "    print(\"Number = \", num)\n",
    "    return num*num, num*num*num\n",
    "\n",
    "\n",
    "square,cube = square_cube(4)\n",
    "print(\"Square = \", square, \"Cube = \", cube)"
   ]
  },
  {
   "cell_type": "markdown",
   "metadata": {},
   "source": [
    "# Write a program to find cube of a number and check if the cube is divisible by 3 or not (Hint : use one function in function)"
   ]
  },
  {
   "cell_type": "code",
   "execution_count": 19,
   "metadata": {},
   "outputs": [],
   "source": [
    "def cube(number):\n",
    "    return number**3\n",
    "def by_three(number):\n",
    "    if number%3 == 0:\n",
    "        result = cube(number)\n",
    "        return result\n",
    "    else:\n",
    "        return False"
   ]
  },
  {
   "cell_type": "code",
   "execution_count": 20,
   "metadata": {},
   "outputs": [
    {
     "data": {
      "text/plain": [
       "729"
      ]
     },
     "execution_count": 20,
     "metadata": {},
     "output_type": "execute_result"
    }
   ],
   "source": [
    "by_three(9)"
   ]
  },
  {
   "cell_type": "markdown",
   "metadata": {},
   "source": [
    "# Built in Functions"
   ]
  },
  {
   "cell_type": "markdown",
   "metadata": {},
   "source": [
    "# One Example of how to use a built in Function"
   ]
  },
  {
   "cell_type": "markdown",
   "metadata": {},
   "source": [
    "### ( *args)  used to write anythings in it as a input "
   ]
  },
  {
   "cell_type": "code",
   "execution_count": 29,
   "metadata": {},
   "outputs": [],
   "source": [
    "def biggest_number(*args):\n",
    "  print(max(args))\n",
    "  return max(args)\n",
    "    \n",
    "def smallest_number(*args):\n",
    "  print(min(args))\n",
    "  return min(args)\n",
    "\n",
    "def distance_from_zero(arg):\n",
    "  print(abs(arg))\n",
    "  return abs(arg)"
   ]
  },
  {
   "cell_type": "code",
   "execution_count": 30,
   "metadata": {},
   "outputs": [
    {
     "name": "stdout",
     "output_type": "stream",
     "text": [
      "20.5\n"
     ]
    },
    {
     "data": {
      "text/plain": [
       "20.5"
      ]
     },
     "execution_count": 30,
     "metadata": {},
     "output_type": "execute_result"
    }
   ],
   "source": [
    "biggest_number(-10, 20.5)"
   ]
  },
  {
   "cell_type": "code",
   "execution_count": 17,
   "metadata": {},
   "outputs": [
    {
     "name": "stdout",
     "output_type": "stream",
     "text": [
      "10\n"
     ]
    },
    {
     "data": {
      "text/plain": [
       "10"
      ]
     },
     "execution_count": 17,
     "metadata": {},
     "output_type": "execute_result"
    }
   ],
   "source": [
    "biggest_number(-10, -5, 5, 10)"
   ]
  },
  {
   "cell_type": "code",
   "execution_count": 18,
   "metadata": {},
   "outputs": [
    {
     "name": "stdout",
     "output_type": "stream",
     "text": [
      "-10\n"
     ]
    },
    {
     "data": {
      "text/plain": [
       "-10"
      ]
     },
     "execution_count": 18,
     "metadata": {},
     "output_type": "execute_result"
    }
   ],
   "source": [
    "smallest_number(-10, -5, 5, 10)"
   ]
  },
  {
   "cell_type": "code",
   "execution_count": 21,
   "metadata": {},
   "outputs": [
    {
     "name": "stdout",
     "output_type": "stream",
     "text": [
      "10\n"
     ]
    },
    {
     "data": {
      "text/plain": [
       "10"
      ]
     },
     "execution_count": 21,
     "metadata": {},
     "output_type": "execute_result"
    }
   ],
   "source": [
    "distance_from_zero(-10)"
   ]
  },
  {
   "cell_type": "code",
   "execution_count": 38,
   "metadata": {},
   "outputs": [],
   "source": [
    "def dd(*args):\n",
    "    return str(args)"
   ]
  },
  {
   "cell_type": "code",
   "execution_count": 44,
   "metadata": {},
   "outputs": [
    {
     "data": {
      "text/plain": [
       "\"('python',)\""
      ]
     },
     "execution_count": 44,
     "metadata": {},
     "output_type": "execute_result"
    }
   ],
   "source": [
    "dd(\"python\")"
   ]
  },
  {
   "cell_type": "code",
   "execution_count": 26,
   "metadata": {},
   "outputs": [
    {
     "name": "stdout",
     "output_type": "stream",
     "text": [
      "<class 'int'>\n",
      "<class 'float'>\n",
      "<class 'str'>\n"
     ]
    }
   ],
   "source": [
    "print(type(45))\n",
    "print(type(4.5))\n",
    "print(type(\"Hello\"))"
   ]
  },
  {
   "cell_type": "markdown",
   "metadata": {},
   "source": [
    "# Write a program to find a square root of a number"
   ]
  },
  {
   "cell_type": "code",
   "execution_count": 16,
   "metadata": {},
   "outputs": [
    {
     "name": "stdout",
     "output_type": "stream",
     "text": [
      "Enter a number to find multiples of number :2\n",
      "1\n",
      "2\n"
     ]
    }
   ],
   "source": [
    "def factors():\n",
    "    num = int(input(\"Enter a number to find multiples of number :\"))\n",
    "    for i in range(1,num+1):\n",
    "        if num%i == 0:\n",
    "            print(i)\n",
    "        \n",
    "    for i in range(1,num+1):\n",
    "        if i*i == num:\n",
    "            print(\"Square root of {} is {}\".format(num,i))\n",
    "multiples()\n"
   ]
  },
  {
   "cell_type": "markdown",
   "metadata": {},
   "source": [
    "## Write factors of a numbers"
   ]
  },
  {
   "cell_type": "code",
   "execution_count": 20,
   "metadata": {},
   "outputs": [],
   "source": [
    "def factors():\n",
    "    \n",
    "    num = int(input(\"Enter a number to find factors of number :\"))\n",
    "    for i in range(1,num+1):\n",
    "        if num%i == 0:\n",
    "            print(i)"
   ]
  },
  {
   "cell_type": "code",
   "execution_count": 21,
   "metadata": {},
   "outputs": [
    {
     "name": "stdout",
     "output_type": "stream",
     "text": [
      "Enter a number to find factors of number :1\n",
      "1\n"
     ]
    }
   ],
   "source": [
    "factors()"
   ]
  },
  {
   "cell_type": "code",
   "execution_count": 113,
   "metadata": {},
   "outputs": [],
   "source": [
    "import math \n",
    "# from math import *\n",
    "# from math import sqrt"
   ]
  },
  {
   "cell_type": "code",
   "execution_count": 114,
   "metadata": {},
   "outputs": [
    {
     "name": "stdout",
     "output_type": "stream",
     "text": [
      "8.0\n"
     ]
    }
   ],
   "source": [
    "print(math.sqrt(64))"
   ]
  },
  {
   "cell_type": "code",
   "execution_count": 115,
   "metadata": {},
   "outputs": [
    {
     "name": "stdout",
     "output_type": "stream",
     "text": [
      "['__doc__', '__loader__', '__name__', '__package__', '__spec__', 'acos', 'acosh', 'asin', 'asinh', 'atan', 'atan2', 'atanh', 'ceil', 'copysign', 'cos', 'cosh', 'degrees', 'e', 'erf', 'erfc', 'exp', 'expm1', 'fabs', 'factorial', 'floor', 'fmod', 'frexp', 'fsum', 'gamma', 'gcd', 'hypot', 'inf', 'isclose', 'isfinite', 'isinf', 'isnan', 'ldexp', 'lgamma', 'log', 'log10', 'log1p', 'log2', 'modf', 'nan', 'pi', 'pow', 'radians', 'sin', 'sinh', 'sqrt', 'tan', 'tanh', 'tau', 'trunc']\n"
     ]
    }
   ],
   "source": [
    "import math # Imports the math module\n",
    "everything = dir(math) # Sets everything to a list of things from math\n",
    "print(everything) # Prints 'em all!"
   ]
  },
  {
   "cell_type": "code",
   "execution_count": 33,
   "metadata": {},
   "outputs": [
    {
     "data": {
      "text/plain": [
       "'Shutting Down'"
      ]
     },
     "execution_count": 33,
     "metadata": {},
     "output_type": "execute_result"
    }
   ],
   "source": [
    "def shut_down(s):\n",
    "  if s == \"yes\":\n",
    "    return \"Shutting Down\"\n",
    "  elif s == \"no\":\n",
    "    return \"Shutdown Aborted\"\n",
    "  else:\n",
    "    return \"Sorry\"\n",
    "shut_down(\"yes\")"
   ]
  },
  {
   "cell_type": "code",
   "execution_count": null,
   "metadata": {},
   "outputs": [],
   "source": [
    "# Write a program to create a function and print the absolute value of number if the type of number is int or float."
   ]
  },
  {
   "cell_type": "code",
   "execution_count": 34,
   "metadata": {},
   "outputs": [],
   "source": [
    "def distance_from_zero(num):\n",
    "  if type(num) == int or type(num) == float:\n",
    "    return abs(num)\n",
    "  else:\n",
    "    return \"Nope\""
   ]
  },
  {
   "cell_type": "code",
   "execution_count": 35,
   "metadata": {},
   "outputs": [
    {
     "data": {
      "text/plain": [
       "15.6"
      ]
     },
     "execution_count": 35,
     "metadata": {},
     "output_type": "execute_result"
    }
   ],
   "source": [
    "distance_from_zero(-15.6)"
   ]
  },
  {
   "cell_type": "markdown",
   "metadata": {},
   "source": [
    "# Tasks\n",
    "\n",
    "- Calculate distance between two points sqrt((x2-x1)^2 + (y2-y1)^2)\n",
    "- For a Quadratic Equation ax^2 + bx + c the discriminant D is (b^2 - 4ac). Write a function to compute the discriminant D, that returns the following output depending on the discriminant D.\n",
    "  \n",
    "  ***Conditions:***\n",
    "      - if D>0: The Equation has two Real roots\n",
    "      - if D=0: The Equation has one Real root\n",
    "      - if D<0: The Equation has two Complex roots."
   ]
  },
  {
   "cell_type": "markdown",
   "metadata": {},
   "source": [
    "# Changing the functionality of a function"
   ]
  },
  {
   "cell_type": "markdown",
   "metadata": {},
   "source": [
    "### Change the function so the given argument is multiplied by 3 and returned."
   ]
  },
  {
   "cell_type": "code",
   "execution_count": 1,
   "metadata": {},
   "outputs": [
    {
     "name": "stdout",
     "output_type": "stream",
     "text": [
      "15\n"
     ]
    }
   ],
   "source": [
    "number = 5\n",
    "\n",
    "def my_function(x):\n",
    "  return x * 3\n",
    "\n",
    "print(my_function(number))"
   ]
  },
  {
   "cell_type": "markdown",
   "metadata": {},
   "source": [
    "# More than one argument"
   ]
  },
  {
   "cell_type": "markdown",
   "metadata": {},
   "source": [
    "### Shows how to use more than one argument in a function."
   ]
  },
  {
   "cell_type": "code",
   "execution_count": 3,
   "metadata": {},
   "outputs": [
    {
     "name": "stdout",
     "output_type": "stream",
     "text": [
      "18\n"
     ]
    }
   ],
   "source": [
    "m = 5\n",
    "n = 13\n",
    "# Add add_function here!\n",
    "def add_function(x,y):\n",
    "  return x+y\n",
    "\n",
    "\n",
    "print(add_function(m, n))"
   ]
  },
  {
   "cell_type": "markdown",
   "metadata": {},
   "source": [
    "# Strings in functions"
   ]
  },
  {
   "cell_type": "code",
   "execution_count": 2,
   "metadata": {},
   "outputs": [
    {
     "name": "stdout",
     "output_type": "stream",
     "text": [
      "Hello world\n"
     ]
    }
   ],
   "source": [
    "n = \"Hello\"\n",
    "# Your function here!\n",
    "def string_function(s):\n",
    "  return s+' world'\n",
    "\n",
    "\n",
    "print(string_function(n))"
   ]
  },
  {
   "cell_type": "markdown",
   "metadata": {},
   "source": [
    "# Passing a list to a function"
   ]
  },
  {
   "cell_type": "markdown",
   "metadata": {},
   "source": [
    "### Can pass a list to a function the same way you pass any other argument to a function."
   ]
  },
  {
   "cell_type": "code",
   "execution_count": 22,
   "metadata": {},
   "outputs": [
    {
     "name": "stdout",
     "output_type": "stream",
     "text": [
      "[3, 5, 7]\n"
     ]
    }
   ],
   "source": [
    "def list_function(x):\n",
    "  return x\n",
    "\n",
    "n = [3, 5, 7]\n",
    "print(list_function(n))"
   ]
  },
  {
   "cell_type": "code",
   "execution_count": 23,
   "metadata": {},
   "outputs": [
    {
     "name": "stdout",
     "output_type": "stream",
     "text": [
      "5\n"
     ]
    }
   ],
   "source": [
    "def list_function(x):\n",
    "  return x[1]\n",
    "\n",
    "n = [3, 5, 7]\n",
    "print(list_function(n))"
   ]
  },
  {
   "cell_type": "markdown",
   "metadata": {},
   "source": [
    "# Modifying an element of a list in a function"
   ]
  },
  {
   "cell_type": "code",
   "execution_count": 24,
   "metadata": {},
   "outputs": [
    {
     "name": "stdout",
     "output_type": "stream",
     "text": [
      "[3, 8, 7]\n"
     ]
    }
   ],
   "source": [
    "def list_function(x):\n",
    "  x[1] = x[1] + 3\n",
    "  return x\n",
    "\n",
    "n = [3, 5, 7]\n",
    "print(list_function(n))"
   ]
  },
  {
   "cell_type": "markdown",
   "metadata": {},
   "source": [
    "# List manipulation in functions"
   ]
  },
  {
   "cell_type": "markdown",
   "metadata": {},
   "source": [
    "### You can also append or delete items of a list inside a function just as if you were manipulating the list outside a function."
   ]
  },
  {
   "cell_type": "code",
   "execution_count": 30,
   "metadata": {},
   "outputs": [
    {
     "name": "stdout",
     "output_type": "stream",
     "text": [
      "[3, 5, 7, 9]\n"
     ]
    }
   ],
   "source": [
    "n = [3, 5, 7]\n",
    "# Add your function here\n",
    "def list_extender(lst):\n",
    "  lst.append(9)\n",
    "  return lst\n",
    "\n",
    "\n",
    "print(list_extender(n))"
   ]
  },
  {
   "cell_type": "markdown",
   "metadata": {},
   "source": [
    "# Printing out a list item by item in a function"
   ]
  },
  {
   "cell_type": "markdown",
   "metadata": {},
   "source": [
    "### The below code shows how to utilize every element in a list in a function."
   ]
  },
  {
   "cell_type": "code",
   "execution_count": 31,
   "metadata": {},
   "outputs": [
    {
     "name": "stdout",
     "output_type": "stream",
     "text": [
      "3\n",
      "5\n",
      "7\n"
     ]
    }
   ],
   "source": [
    "n = [3, 5, 7]\n",
    "\n",
    "def print_list(x):\n",
    "  for i in range(0, len(x)):\n",
    "    print(x[i])\n",
    "    \n",
    "print_list(n)"
   ]
  },
  {
   "cell_type": "markdown",
   "metadata": {},
   "source": [
    "# Modifying each element in a list in a function"
   ]
  },
  {
   "cell_type": "markdown",
   "metadata": {},
   "source": [
    "### The below code shows how to modify each element in a list."
   ]
  },
  {
   "cell_type": "code",
   "execution_count": 15,
   "metadata": {},
   "outputs": [
    {
     "name": "stdout",
     "output_type": "stream",
     "text": [
      "[6, 10, 14]\n"
     ]
    }
   ],
   "source": [
    "n = [3, 5, 7]\n",
    "\n",
    "def double_list(x):\n",
    "  for i in range(0, len(x)):\n",
    "    x[i] = x[i] * 2\n",
    "  return x\n",
    "# Don't forget to return your new list!\n",
    "\n",
    "print(double_list(n))"
   ]
  },
  {
   "cell_type": "markdown",
   "metadata": {},
   "source": [
    "# Passing a range into a function"
   ]
  },
  {
   "cell_type": "markdown",
   "metadata": {},
   "source": [
    "### The Python range() function is just a shortcut for generating a list, so you can use ranges in all the same places you can use lists."
   ]
  },
  {
   "cell_type": "code",
   "execution_count": 19,
   "metadata": {},
   "outputs": [
    {
     "name": "stdout",
     "output_type": "stream",
     "text": [
      "[0, 1, 2]\n"
     ]
    }
   ],
   "source": [
    "a = []\n",
    "def my_function(x):\n",
    "  for i in range(0, len(x)):\n",
    "    a.append(i)\n",
    "  return a\n",
    "\n",
    "print(my_function(range(3))) # Add your range between the parentheses!"
   ]
  },
  {
   "cell_type": "markdown",
   "metadata": {},
   "source": [
    "# Iterating over a list in a function"
   ]
  },
  {
   "cell_type": "code",
   "execution_count": 20,
   "metadata": {},
   "outputs": [
    {
     "name": "stdout",
     "output_type": "stream",
     "text": [
      "15\n"
     ]
    }
   ],
   "source": [
    "n = [3, 5, 7]\n",
    "\n",
    "def total(numbers):\n",
    "  result = 0\n",
    "  for item in numbers:\n",
    "    result = result + item\n",
    "  return result\n",
    "  \n",
    "print(total(n))"
   ]
  },
  {
   "cell_type": "markdown",
   "metadata": {},
   "source": [
    "# Using strings in lists in functions"
   ]
  },
  {
   "cell_type": "code",
   "execution_count": 22,
   "metadata": {},
   "outputs": [
    {
     "name": "stdout",
     "output_type": "stream",
     "text": [
      "MichaelLieberman\n"
     ]
    }
   ],
   "source": [
    "n = [\"Michael\", \"Lieberman\"]\n",
    "# Add your function here\n",
    "def join_strings(words):\n",
    "  result = ''\n",
    "  for item in words:\n",
    "    result = result + item\n",
    "  return result\n",
    "\n",
    "\n",
    "print(join_strings(n))"
   ]
  },
  {
   "cell_type": "markdown",
   "metadata": {},
   "source": [
    "# Using two lists as two arguments in a function"
   ]
  },
  {
   "cell_type": "markdown",
   "metadata": {},
   "source": [
    "### Using multiple lists in a function is no different from just using multiple arguments in a function!"
   ]
  },
  {
   "cell_type": "code",
   "execution_count": 32,
   "metadata": {},
   "outputs": [
    {
     "name": "stdout",
     "output_type": "stream",
     "text": [
      "[1, 2, 3, 4, 5, 6]\n"
     ]
    }
   ],
   "source": [
    "m = [1, 2, 3]\n",
    "n = [4, 5, 6]\n",
    "\n",
    "# Add your code here!\n",
    "def join_lists(x,y):\n",
    "  return x + y\n",
    "\n",
    "\n",
    "print(join_lists(m, n))\n",
    "# You want this to print [1, 2, 3, 4, 5, 6]"
   ]
  },
  {
   "cell_type": "markdown",
   "metadata": {},
   "source": [
    "# Using a list of lists in a function"
   ]
  },
  {
   "cell_type": "markdown",
   "metadata": {},
   "source": [
    "### The below code shows how to make use of a single list that contains multiple lists and how to use them in a function."
   ]
  },
  {
   "cell_type": "code",
   "execution_count": 25,
   "metadata": {},
   "outputs": [
    {
     "name": "stdout",
     "output_type": "stream",
     "text": [
      "[1, 2, 3, 4, 5, 6, 7, 8, 9]\n"
     ]
    }
   ],
   "source": [
    "n = [[1, 2, 3], [4, 5, 6, 7, 8, 9]]\n",
    "# Add your function here\n",
    "def combine(lists):\n",
    "  results = []\n",
    "  for list1 in lists:\n",
    "    for number in list1:\n",
    "      results.append(number)\n",
    "  return results\n",
    "\n",
    "print(combine(n))"
   ]
  },
  {
   "cell_type": "code",
   "execution_count": 16,
   "metadata": {},
   "outputs": [],
   "source": [
    "lists = [[1, 2, 3], [4, 5, 6, 7, 8, 9]]\n",
    "results= []\n",
    "for i in lists:\n",
    "    for j in i:\n",
    "        results.append(j)"
   ]
  },
  {
   "cell_type": "code",
   "execution_count": 17,
   "metadata": {},
   "outputs": [
    {
     "data": {
      "text/plain": [
       "[1, 2, 3, 4, 5, 6, 7, 8, 9]"
      ]
     },
     "execution_count": 17,
     "metadata": {},
     "output_type": "execute_result"
    }
   ],
   "source": [
    "results"
   ]
  },
  {
   "cell_type": "code",
   "execution_count": null,
   "metadata": {},
   "outputs": [],
   "source": []
  }
 ],
 "metadata": {
  "kernelspec": {
   "display_name": "Python 3",
   "language": "python",
   "name": "python3"
  },
  "language_info": {
   "codemirror_mode": {
    "name": "ipython",
    "version": 3
   },
   "file_extension": ".py",
   "mimetype": "text/x-python",
   "name": "python",
   "nbconvert_exporter": "python",
   "pygments_lexer": "ipython3",
   "version": "3.7.6"
  }
 },
 "nbformat": 4,
 "nbformat_minor": 2
}
